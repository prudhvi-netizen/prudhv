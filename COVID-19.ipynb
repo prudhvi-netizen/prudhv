{
 "cells": [
  {
   "cell_type": "markdown",
   "metadata": {},
   "source": [
    "## Data Source"
   ]
  },
  {
   "cell_type": "markdown",
   "metadata": {},
   "source": [
    "https://api.covid19india.org/"
   ]
  },
  {
   "cell_type": "markdown",
   "metadata": {},
   "source": [
    "## Import libraries"
   ]
  },
  {
   "cell_type": "code",
   "execution_count": 2,
   "metadata": {},
   "outputs": [],
   "source": [
    "# to get web contents\n",
    "import requests\n",
    "# to parse json contents\n",
    "import json\n",
    "# to parse csv files\n",
    "import csv\n",
    "\n",
    "# for numerical operations\n",
    "import numpy as np\n",
    "# to store and analysis data in dataframes\n",
    "import pandas as pd"
   ]
  },
  {
   "cell_type": "markdown",
   "metadata": {},
   "source": [
    "## Get data"
   ]
  },
  {
   "cell_type": "markdown",
   "metadata": {},
   "source": [
    "### df_1 - Till Apr 19"
   ]
  },
  {
   "cell_type": "code",
   "execution_count": 3,
   "metadata": {},
   "outputs": [
    {
     "data": {
      "text/plain": [
       "dict_keys(['raw_data'])"
      ]
     },
     "execution_count": 3,
     "metadata": {},
     "output_type": "execute_result"
    }
   ],
   "source": [
    "# df_1 - Till Apr 19\n",
    "# ==================\n",
    "\n",
    "# get response from the web page\n",
    "response = requests.get('https://api.covid19india.org/raw_data1.json')\n",
    "# get contents from the response\n",
    "content = response.content\n",
    "# parse the json file\n",
    "parsed = json.loads(content)\n",
    "# keys\n",
    "parsed.keys()"
   ]
  },
  {
   "cell_type": "code",
   "execution_count": 4,
   "metadata": {},
   "outputs": [
    {
     "name": "stdout",
     "output_type": "stream",
     "text": [
      "(17364, 21)\n",
      "Index(['agebracket', 'backupnotes', 'contractedfromwhichpatientsuspected',\n",
      "       'currentstatus', 'dateannounced', 'detectedcity', 'detecteddistrict',\n",
      "       'detectedstate', 'estimatedonsetdate', 'gender', 'nationality', 'notes',\n",
      "       'numcases', 'patientnumber', 'source1', 'source2', 'source3',\n",
      "       'statecode', 'statepatientnumber', 'statuschangedate',\n",
      "       'typeoftransmission'],\n",
      "      dtype='object')\n"
     ]
    }
   ],
   "source": [
    "# save to df\n",
    "df_1 = pd.DataFrame(parsed['raw_data'])\n",
    "\n",
    "# shape of the dataframe\n",
    "print(df_1.shape)\n",
    "\n",
    "# # list of columns\n",
    "print(df_1.columns)\n",
    "\n",
    "# # first few rows\n",
    "# df_1.head(2)"
   ]
  },
  {
   "cell_type": "markdown",
   "metadata": {},
   "source": [
    "### df_2 - Till Apr 26"
   ]
  },
  {
   "cell_type": "code",
   "execution_count": 5,
   "metadata": {},
   "outputs": [
    {
     "data": {
      "text/plain": [
       "dict_keys(['raw_data'])"
      ]
     },
     "execution_count": 5,
     "metadata": {},
     "output_type": "execute_result"
    }
   ],
   "source": [
    "# df_2 - Till Apr 26\n",
    "# ==================\n",
    "\n",
    "# get response from the web page\n",
    "response = requests.get('https://api.covid19india.org/raw_data2.json')\n",
    "\n",
    "# get contents from the response\n",
    "content = response.content\n",
    "\n",
    "# parse the json file\n",
    "parsed = json.loads(content)\n",
    "\n",
    "# keys\n",
    "parsed.keys()"
   ]
  },
  {
   "cell_type": "code",
   "execution_count": 6,
   "metadata": {},
   "outputs": [
    {
     "name": "stdout",
     "output_type": "stream",
     "text": [
      "(10819, 21)\n",
      "Index(['agebracket', 'backupnotes', 'contractedfromwhichpatientsuspected',\n",
      "       'currentstatus', 'dateannounced', 'detectedcity', 'detecteddistrict',\n",
      "       'detectedstate', 'estimatedonsetdate', 'gender', 'nationality', 'notes',\n",
      "       'numcases', 'patientnumber', 'source1', 'source2', 'source3',\n",
      "       'statecode', 'statepatientnumber', 'statuschangedate',\n",
      "       'typeoftransmission'],\n",
      "      dtype='object')\n"
     ]
    }
   ],
   "source": [
    "# save to df\n",
    "df_2 = pd.DataFrame(parsed['raw_data'])\n",
    "\n",
    "# shape of the dataframe\n",
    "print(df_2.shape)\n",
    "\n",
    "# # list of columns\n",
    "print(df_2.columns)\n",
    "\n",
    "# # first few rows\n",
    "# df_2.head(2)"
   ]
  },
  {
   "cell_type": "markdown",
   "metadata": {},
   "source": [
    "### df_3 - Live"
   ]
  },
  {
   "cell_type": "code",
   "execution_count": 7,
   "metadata": {},
   "outputs": [
    {
     "data": {
      "text/plain": [
       "dict_keys(['raw_data'])"
      ]
     },
     "execution_count": 7,
     "metadata": {},
     "output_type": "execute_result"
    }
   ],
   "source": [
    "# df_3 - Live\n",
    "# ===========\n",
    "\n",
    "# get response from the web page\n",
    "response = requests.get('https://api.covid19india.org/raw_data3.json')\n",
    "\n",
    "# get contents from the response\n",
    "content = response.content\n",
    "\n",
    "# parse the json file\n",
    "parsed = json.loads(content)\n",
    "\n",
    "# keys\n",
    "parsed.keys()"
   ]
  },
  {
   "cell_type": "code",
   "execution_count": 8,
   "metadata": {},
   "outputs": [
    {
     "name": "stdout",
     "output_type": "stream",
     "text": [
      "(10012, 20)\n",
      "Index(['agebracket', 'contractedfromwhichpatientsuspected', 'currentstatus',\n",
      "       'dateannounced', 'detectedcity', 'detecteddistrict', 'detectedstate',\n",
      "       'entryid', 'gender', 'nationality', 'notes', 'numcases',\n",
      "       'patientnumber', 'source1', 'source2', 'source3', 'statecode',\n",
      "       'statepatientnumber', 'statuschangedate', 'typeoftransmission'],\n",
      "      dtype='object')\n"
     ]
    }
   ],
   "source": [
    "# save to df\n",
    "df_3 = pd.DataFrame(parsed['raw_data'])\n",
    "\n",
    "# shape of the dataframe\n",
    "print(df_3.shape)\n",
    "\n",
    "# # list of columns\n",
    "print(df_3.columns)\n",
    "\n",
    "# # first few rows\n",
    "# df_3.head(2)"
   ]
  },
  {
   "cell_type": "code",
   "execution_count": 8,
   "metadata": {},
   "outputs": [],
   "source": [
    "# np.setdiff1d(df_1.columns, df_3.columns)"
   ]
  },
  {
   "cell_type": "markdown",
   "metadata": {},
   "source": [
    "### full data"
   ]
  },
  {
   "cell_type": "code",
   "execution_count": 27,
   "metadata": {},
   "outputs": [
    {
     "data": {
      "image/png": "[encoded data removed]",
      "text/plain": [
       "<Figure size 432x288 with 1 Axes>"
      ]
     },
     "metadata": {
      "needs_background": "light"
     },
     "output_type": "display_data"
    }
   ],
   "source": [
    "import numpy as np\n",
    "import matplotlib.pyplot as plt\n",
    "import scipy.stats as stats\n",
    "mu = 34\n",
    "std = 10\n",
    "x = np.linspace(start=0, stop=1000, num=100)\n",
    "y = stats.norm.pdf(x, mu, std) \n",
    "plt.plot(x, y)\n",
    "plt.show()"
   ]
  },
  {
   "cell_type": "code",
   "execution_count": 22,
   "metadata": {},
   "outputs": [],
   "source": [
    "# df_3[['entryid', 'patientnumber']]"
   ]
  },
  {
   "cell_type": "code",
   "execution_count": null,
   "metadata": {},
   "outputs": [],
   "source": [
    "# concatenate data\n",
    "df = pd.concat([df_1, df_2, df_3])\n",
    "\n",
    "# shape of the data\n",
    "df.shape"
   ]
  },
  {
   "cell_type": "code",
   "execution_count": null,
   "metadata": {},
   "outputs": [],
   "source": [
    "# list of columns\n",
    "df.columns"
   ]
  },
  {
   "cell_type": "code",
   "execution_count": 13,
   "metadata": {},
   "outputs": [
    {
     "data": {
      "text/html": [
       "<div>\n",
       "<style scoped>\n",
       "    .dataframe tbody tr th:only-of-type {\n",
       "        vertical-align: middle;\n",
       "    }\n",
       "\n",
       "    .dataframe tbody tr th {\n",
       "        vertical-align: top;\n",
       "    }\n",
       "\n",
       "    .dataframe thead th {\n",
       "        text-align: right;\n",
       "    }\n",
       "</style>\n",
       "<table border=\"1\" class=\"dataframe\">\n",
       "  <thead>\n",
       "    <tr style=\"text-align: right;\">\n",
       "      <th></th>\n",
       "      <th>agebracket</th>\n",
       "      <th>backupnotes</th>\n",
       "      <th>contractedfromwhichpatientsuspected</th>\n",
       "      <th>currentstatus</th>\n",
       "      <th>dateannounced</th>\n",
       "      <th>detectedcity</th>\n",
       "      <th>detecteddistrict</th>\n",
       "      <th>detectedstate</th>\n",
       "      <th>estimatedonsetdate</th>\n",
       "      <th>gender</th>\n",
       "      <th>...</th>\n",
       "      <th>notes</th>\n",
       "      <th>numcases</th>\n",
       "      <th>patientnumber</th>\n",
       "      <th>source1</th>\n",
       "      <th>source2</th>\n",
       "      <th>source3</th>\n",
       "      <th>statecode</th>\n",
       "      <th>statepatientnumber</th>\n",
       "      <th>statuschangedate</th>\n",
       "      <th>typeoftransmission</th>\n",
       "    </tr>\n",
       "  </thead>\n",
       "  <tbody>\n",
       "    <tr>\n",
       "      <th>0</th>\n",
       "      <td>20</td>\n",
       "      <td>Student from Wuhan</td>\n",
       "      <td></td>\n",
       "      <td>Recovered</td>\n",
       "      <td>30/01/2020</td>\n",
       "      <td>Thrissur</td>\n",
       "      <td>Thrissur</td>\n",
       "      <td>Kerala</td>\n",
       "      <td></td>\n",
       "      <td>F</td>\n",
       "      <td>...</td>\n",
       "      <td>Travelled from Wuhan</td>\n",
       "      <td>1</td>\n",
       "      <td>1</td>\n",
       "      <td>https://twitter.com/vijayanpinarayi/status/122...</td>\n",
       "      <td>https://weather.com/en-IN/india/news/news/2020...</td>\n",
       "      <td></td>\n",
       "      <td>KL</td>\n",
       "      <td>KL-TS-P1</td>\n",
       "      <td>14/02/2020</td>\n",
       "      <td>Imported</td>\n",
       "    </tr>\n",
       "    <tr>\n",
       "      <th>1</th>\n",
       "      <td></td>\n",
       "      <td>Student from Wuhan</td>\n",
       "      <td></td>\n",
       "      <td>Recovered</td>\n",
       "      <td>02/02/2020</td>\n",
       "      <td>Alappuzha</td>\n",
       "      <td>Alappuzha</td>\n",
       "      <td>Kerala</td>\n",
       "      <td></td>\n",
       "      <td></td>\n",
       "      <td>...</td>\n",
       "      <td>Travelled from Wuhan</td>\n",
       "      <td>1</td>\n",
       "      <td>2</td>\n",
       "      <td>https://www.indiatoday.in/india/story/kerala-r...</td>\n",
       "      <td>https://weather.com/en-IN/india/news/news/2020...</td>\n",
       "      <td></td>\n",
       "      <td>KL</td>\n",
       "      <td>KL-AL-P1</td>\n",
       "      <td>14/02/2020</td>\n",
       "      <td>Imported</td>\n",
       "    </tr>\n",
       "    <tr>\n",
       "      <th>2</th>\n",
       "      <td></td>\n",
       "      <td>Student from Wuhan</td>\n",
       "      <td></td>\n",
       "      <td>Recovered</td>\n",
       "      <td>03/02/2020</td>\n",
       "      <td>Kasaragod</td>\n",
       "      <td>Kasaragod</td>\n",
       "      <td>Kerala</td>\n",
       "      <td></td>\n",
       "      <td></td>\n",
       "      <td>...</td>\n",
       "      <td>Travelled from Wuhan</td>\n",
       "      <td>1</td>\n",
       "      <td>3</td>\n",
       "      <td>https://www.indiatoday.in/india/story/kerala-n...</td>\n",
       "      <td>https://twitter.com/ANI/status/122422148580539...</td>\n",
       "      <td>https://weather.com/en-IN/india/news/news/2020...</td>\n",
       "      <td>KL</td>\n",
       "      <td>KL-KS-P1</td>\n",
       "      <td>14/02/2020</td>\n",
       "      <td>Imported</td>\n",
       "    </tr>\n",
       "  </tbody>\n",
       "</table>\n",
       "<p>3 rows × 21 columns</p>\n",
       "</div>"
      ],
      "text/plain": [
       "  agebracket         backupnotes contractedfromwhichpatientsuspected  \\\n",
       "0         20  Student from Wuhan                                       \n",
       "1             Student from Wuhan                                       \n",
       "2             Student from Wuhan                                       \n",
       "\n",
       "  currentstatus dateannounced detectedcity detecteddistrict detectedstate  \\\n",
       "0     Recovered    30/01/2020     Thrissur         Thrissur        Kerala   \n",
       "1     Recovered    02/02/2020    Alappuzha        Alappuzha        Kerala   \n",
       "2     Recovered    03/02/2020    Kasaragod        Kasaragod        Kerala   \n",
       "\n",
       "  estimatedonsetdate gender  ...                 notes numcases patientnumber  \\\n",
       "0                         F  ...  Travelled from Wuhan        1             1   \n",
       "1                            ...  Travelled from Wuhan        1             2   \n",
       "2                            ...  Travelled from Wuhan        1             3   \n",
       "\n",
       "                                             source1  \\\n",
       "0  https://twitter.com/vijayanpinarayi/status/122...   \n",
       "1  https://www.indiatoday.in/india/story/kerala-r...   \n",
       "2  https://www.indiatoday.in/india/story/kerala-n...   \n",
       "\n",
       "                                             source2  \\\n",
       "0  https://weather.com/en-IN/india/news/news/2020...   \n",
       "1  https://weather.com/en-IN/india/news/news/2020...   \n",
       "2  https://twitter.com/ANI/status/122422148580539...   \n",
       "\n",
       "                                             source3 statecode  \\\n",
       "0                                                           KL   \n",
       "1                                                           KL   \n",
       "2  https://weather.com/en-IN/india/news/news/2020...        KL   \n",
       "\n",
       "  statepatientnumber statuschangedate typeoftransmission  \n",
       "0           KL-TS-P1       14/02/2020           Imported  \n",
       "1           KL-AL-P1       14/02/2020           Imported  \n",
       "2           KL-KS-P1       14/02/2020           Imported  \n",
       "\n",
       "[3 rows x 21 columns]"
      ]
     },
     "execution_count": 13,
     "metadata": {},
     "output_type": "execute_result"
    }
   ],
   "source": [
    "# first 3 rows of the dataframe\n",
    "df.head(3)"
   ]
  },
  {
   "cell_type": "code",
   "execution_count": 14,
   "metadata": {},
   "outputs": [
    {
     "data": {
      "text/plain": [
       "Index(['agebracket', 'backupnotes', 'contractedfromwhichpatientsuspected',\n",
       "       'currentstatus', 'dateannounced', 'detectedcity', 'detecteddistrict',\n",
       "       'detectedstate', 'estimatedonsetdate', 'gender', 'nationality', 'notes',\n",
       "       'numcases', 'patientnumber', 'source1', 'source2', 'source3',\n",
       "       'statecode', 'statepatientnumber', 'statuschangedate',\n",
       "       'typeoftransmission', 'p_id'],\n",
       "      dtype='object')"
      ]
     },
     "execution_count": 14,
     "metadata": {},
     "output_type": "execute_result"
    }
   ],
   "source": [
    "# creating patient id column from patient number\n",
    "# ===============================================\n",
    "\n",
    "df['p_id'] = df['patientnumber'].apply(lambda x : 'P'+str(x))\n",
    "df.columns"
   ]
  },
  {
   "cell_type": "markdown",
   "metadata": {},
   "source": [
    "## Rearrange and rename columns"
   ]
  },
  {
   "cell_type": "code",
   "execution_count": 15,
   "metadata": {},
   "outputs": [
    {
     "data": {
      "text/plain": [
       "(38195, 21)"
      ]
     },
     "execution_count": 15,
     "metadata": {},
     "output_type": "execute_result"
    }
   ],
   "source": [
    "# order of columns\n",
    "cols = ['patientnumber', 'p_id', 'statepatientnumber', \n",
    "        'dateannounced', 'agebracket', 'gender', \n",
    "        'detectedcity', 'detecteddistrict', 'detectedstate', 'statecode', 'nationality',\n",
    "        'typeoftransmission', 'contractedfromwhichpatientsuspected',\n",
    "        'statuschangedate', 'currentstatus', 'estimatedonsetdate',\n",
    "        'source1', 'source2', 'source3', 'notes', 'backupnotes']\n",
    "\n",
    "# rearrange columns\n",
    "df = df[cols]\n",
    "\n",
    "# rename columns\n",
    "df.columns = ['patient_number', 'p_id', 'state_patient_number', \n",
    "              'date_announced', 'age_bracket', 'gender', \n",
    "              'detected_city', 'detected_district', 'detected_state', 'state_code', 'nationality',\n",
    "              'type_of_transmission', 'contracted_from_which_patient_suspected',\n",
    "              'status_change_date', 'current_status', 'estimated_onset_date',\n",
    "              'source1', 'source2', 'source3', 'notes', 'backup_notes']\n",
    "\n",
    "# dataframe shape\n",
    "df.shape"
   ]
  },
  {
   "cell_type": "code",
   "execution_count": 16,
   "metadata": {},
   "outputs": [
    {
     "data": {
      "text/html": [
       "<div>\n",
       "<style scoped>\n",
       "    .dataframe tbody tr th:only-of-type {\n",
       "        vertical-align: middle;\n",
       "    }\n",
       "\n",
       "    .dataframe tbody tr th {\n",
       "        vertical-align: top;\n",
       "    }\n",
       "\n",
       "    .dataframe thead th {\n",
       "        text-align: right;\n",
       "    }\n",
       "</style>\n",
       "<table border=\"1\" class=\"dataframe\">\n",
       "  <thead>\n",
       "    <tr style=\"text-align: right;\">\n",
       "      <th></th>\n",
       "      <th>patient_number</th>\n",
       "      <th>p_id</th>\n",
       "      <th>state_patient_number</th>\n",
       "      <th>date_announced</th>\n",
       "      <th>age_bracket</th>\n",
       "      <th>gender</th>\n",
       "      <th>detected_city</th>\n",
       "      <th>detected_district</th>\n",
       "      <th>detected_state</th>\n",
       "      <th>state_code</th>\n",
       "      <th>...</th>\n",
       "      <th>type_of_transmission</th>\n",
       "      <th>contracted_from_which_patient_suspected</th>\n",
       "      <th>status_change_date</th>\n",
       "      <th>current_status</th>\n",
       "      <th>estimated_onset_date</th>\n",
       "      <th>source1</th>\n",
       "      <th>source2</th>\n",
       "      <th>source3</th>\n",
       "      <th>notes</th>\n",
       "      <th>backup_notes</th>\n",
       "    </tr>\n",
       "  </thead>\n",
       "  <tbody>\n",
       "    <tr>\n",
       "      <th>0</th>\n",
       "      <td>1</td>\n",
       "      <td>P1</td>\n",
       "      <td>KL-TS-P1</td>\n",
       "      <td>30/01/2020</td>\n",
       "      <td>20</td>\n",
       "      <td>F</td>\n",
       "      <td>Thrissur</td>\n",
       "      <td>Thrissur</td>\n",
       "      <td>Kerala</td>\n",
       "      <td>KL</td>\n",
       "      <td>...</td>\n",
       "      <td>Imported</td>\n",
       "      <td></td>\n",
       "      <td>14/02/2020</td>\n",
       "      <td>Recovered</td>\n",
       "      <td></td>\n",
       "      <td>https://twitter.com/vijayanpinarayi/status/122...</td>\n",
       "      <td>https://weather.com/en-IN/india/news/news/2020...</td>\n",
       "      <td></td>\n",
       "      <td>Travelled from Wuhan</td>\n",
       "      <td>Student from Wuhan</td>\n",
       "    </tr>\n",
       "    <tr>\n",
       "      <th>1</th>\n",
       "      <td>2</td>\n",
       "      <td>P2</td>\n",
       "      <td>KL-AL-P1</td>\n",
       "      <td>02/02/2020</td>\n",
       "      <td></td>\n",
       "      <td></td>\n",
       "      <td>Alappuzha</td>\n",
       "      <td>Alappuzha</td>\n",
       "      <td>Kerala</td>\n",
       "      <td>KL</td>\n",
       "      <td>...</td>\n",
       "      <td>Imported</td>\n",
       "      <td></td>\n",
       "      <td>14/02/2020</td>\n",
       "      <td>Recovered</td>\n",
       "      <td></td>\n",
       "      <td>https://www.indiatoday.in/india/story/kerala-r...</td>\n",
       "      <td>https://weather.com/en-IN/india/news/news/2020...</td>\n",
       "      <td></td>\n",
       "      <td>Travelled from Wuhan</td>\n",
       "      <td>Student from Wuhan</td>\n",
       "    </tr>\n",
       "    <tr>\n",
       "      <th>2</th>\n",
       "      <td>3</td>\n",
       "      <td>P3</td>\n",
       "      <td>KL-KS-P1</td>\n",
       "      <td>03/02/2020</td>\n",
       "      <td></td>\n",
       "      <td></td>\n",
       "      <td>Kasaragod</td>\n",
       "      <td>Kasaragod</td>\n",
       "      <td>Kerala</td>\n",
       "      <td>KL</td>\n",
       "      <td>...</td>\n",
       "      <td>Imported</td>\n",
       "      <td></td>\n",
       "      <td>14/02/2020</td>\n",
       "      <td>Recovered</td>\n",
       "      <td></td>\n",
       "      <td>https://www.indiatoday.in/india/story/kerala-n...</td>\n",
       "      <td>https://twitter.com/ANI/status/122422148580539...</td>\n",
       "      <td>https://weather.com/en-IN/india/news/news/2020...</td>\n",
       "      <td>Travelled from Wuhan</td>\n",
       "      <td>Student from Wuhan</td>\n",
       "    </tr>\n",
       "  </tbody>\n",
       "</table>\n",
       "<p>3 rows × 21 columns</p>\n",
       "</div>"
      ],
      "text/plain": [
       "  patient_number p_id state_patient_number date_announced age_bracket gender  \\\n",
       "0              1   P1             KL-TS-P1     30/01/2020          20      F   \n",
       "1              2   P2             KL-AL-P1     02/02/2020                      \n",
       "2              3   P3             KL-KS-P1     03/02/2020                      \n",
       "\n",
       "  detected_city detected_district detected_state state_code  ...  \\\n",
       "0      Thrissur          Thrissur         Kerala         KL  ...   \n",
       "1     Alappuzha         Alappuzha         Kerala         KL  ...   \n",
       "2     Kasaragod         Kasaragod         Kerala         KL  ...   \n",
       "\n",
       "  type_of_transmission contracted_from_which_patient_suspected  \\\n",
       "0             Imported                                           \n",
       "1             Imported                                           \n",
       "2             Imported                                           \n",
       "\n",
       "  status_change_date current_status estimated_onset_date  \\\n",
       "0         14/02/2020      Recovered                        \n",
       "1         14/02/2020      Recovered                        \n",
       "2         14/02/2020      Recovered                        \n",
       "\n",
       "                                             source1  \\\n",
       "0  https://twitter.com/vijayanpinarayi/status/122...   \n",
       "1  https://www.indiatoday.in/india/story/kerala-r...   \n",
       "2  https://www.indiatoday.in/india/story/kerala-n...   \n",
       "\n",
       "                                             source2  \\\n",
       "0  https://weather.com/en-IN/india/news/news/2020...   \n",
       "1  https://weather.com/en-IN/india/news/news/2020...   \n",
       "2  https://twitter.com/ANI/status/122422148580539...   \n",
       "\n",
       "                                             source3                 notes  \\\n",
       "0                                                     Travelled from Wuhan   \n",
       "1                                                     Travelled from Wuhan   \n",
       "2  https://weather.com/en-IN/india/news/news/2020...  Travelled from Wuhan   \n",
       "\n",
       "         backup_notes  \n",
       "0  Student from Wuhan  \n",
       "1  Student from Wuhan  \n",
       "2  Student from Wuhan  \n",
       "\n",
       "[3 rows x 21 columns]"
      ]
     },
     "execution_count": 16,
     "metadata": {},
     "output_type": "execute_result"
    }
   ],
   "source": [
    "# first 3 rows of the dataframe\n",
    "df.head(3)"
   ]
  },
  {
   "cell_type": "markdown",
   "metadata": {},
   "source": [
    "## Missing values"
   ]
  },
  {
   "cell_type": "code",
   "execution_count": 17,
   "metadata": {
    "scrolled": true
   },
   "outputs": [
    {
     "name": "stdout",
     "output_type": "stream",
     "text": [
      "(38195, 21) \n",
      "\n",
      "patient_number \t 296\n",
      "p_id \t 0\n",
      "state_patient_number \t 30061\n",
      "date_announced \t 0\n",
      "age_bracket \t 30666\n",
      "gender \t 28228\n",
      "detected_city \t 35424\n",
      "detected_district \t 7066\n",
      "detected_state \t 7\n",
      "state_code \t 7\n",
      "nationality \t 35486\n",
      "type_of_transmission \t 35205\n",
      "contracted_from_which_patient_suspected \t 36316\n",
      "status_change_date \t 10415\n",
      "current_status \t 0\n",
      "estimated_onset_date \t 28183\n",
      "source1 \t 733\n",
      "source2 \t 34242\n",
      "source3 \t 37712\n",
      "notes \t 9422\n",
      "backup_notes \t 27822\n"
     ]
    }
   ],
   "source": [
    "# no. of empty values in each column\n",
    "# ==================================\n",
    "\n",
    "print(df.shape, '\\n')\n",
    "\n",
    "for i in df.columns:\n",
    "    print(i, '\\t', df[df[i]==''].shape[0])"
   ]
  },
  {
   "cell_type": "code",
   "execution_count": 18,
   "metadata": {},
   "outputs": [
    {
     "name": "stdout",
     "output_type": "stream",
     "text": [
      "(38195, 21) \n",
      "\n",
      "patient_number \t 37899\n",
      "p_id \t 38195\n",
      "state_patient_number \t 8134\n",
      "date_announced \t 38195\n",
      "age_bracket \t 7529\n",
      "gender \t 9967\n",
      "detected_city \t 2771\n",
      "detected_district \t 31129\n",
      "detected_state \t 38188\n",
      "state_code \t 38188\n",
      "nationality \t 2709\n",
      "type_of_transmission \t 2990\n",
      "contracted_from_which_patient_suspected \t 1879\n",
      "status_change_date \t 27780\n",
      "current_status \t 38195\n",
      "estimated_onset_date \t 10012\n",
      "source1 \t 37462\n",
      "source2 \t 3953\n",
      "source3 \t 483\n",
      "notes \t 28773\n",
      "backup_notes \t 10373\n"
     ]
    }
   ],
   "source": [
    "# no. of non-empty values in each column\n",
    "# ===================================\n",
    "\n",
    "print(df.shape, '\\n')\n",
    "\n",
    "for i in df.columns:\n",
    "    print(i, '\\t', df[df[i]!=''].shape[0])"
   ]
  },
  {
   "cell_type": "code",
   "execution_count": 19,
   "metadata": {},
   "outputs": [
    {
     "name": "stdout",
     "output_type": "stream",
     "text": [
      "(38195, 21)\n"
     ]
    },
    {
     "data": {
      "text/plain": [
       "patient_number                               296\n",
       "p_id                                           0\n",
       "state_patient_number                       30061\n",
       "date_announced                                 0\n",
       "age_bracket                                30666\n",
       "gender                                     28228\n",
       "detected_city                              35424\n",
       "detected_district                           7066\n",
       "detected_state                                 7\n",
       "state_code                                     7\n",
       "nationality                                35486\n",
       "type_of_transmission                       35205\n",
       "contracted_from_which_patient_suspected    36316\n",
       "status_change_date                         10415\n",
       "current_status                                 0\n",
       "estimated_onset_date                       38195\n",
       "source1                                      733\n",
       "source2                                    34242\n",
       "source3                                    37712\n",
       "notes                                       9422\n",
       "backup_notes                               37834\n",
       "dtype: int64"
      ]
     },
     "execution_count": 19,
     "metadata": {},
     "output_type": "execute_result"
    }
   ],
   "source": [
    "# replacing empty strings with np.nan\n",
    "# ==================================-\n",
    "\n",
    "print(df.shape)\n",
    "\n",
    "df = df.replace(r'', np.nan, regex=True)\n",
    "df.isna().sum()"
   ]
  },
  {
   "cell_type": "code",
   "execution_count": 20,
   "metadata": {},
   "outputs": [
    {
     "name": "stdout",
     "output_type": "stream",
     "text": [
      "(38195, 21)\n",
      "(38195, 21)\n"
     ]
    },
    {
     "data": {
      "text/plain": [
       "patient_number                               296\n",
       "p_id                                           0\n",
       "state_patient_number                       30061\n",
       "date_announced                                 0\n",
       "age_bracket                                30666\n",
       "gender                                     28228\n",
       "detected_city                              35424\n",
       "detected_district                           7066\n",
       "detected_state                                 7\n",
       "state_code                                     7\n",
       "nationality                                35486\n",
       "type_of_transmission                       35205\n",
       "contracted_from_which_patient_suspected    36316\n",
       "status_change_date                         10415\n",
       "current_status                                 0\n",
       "estimated_onset_date                       38195\n",
       "source1                                      733\n",
       "source2                                    34242\n",
       "source3                                    37712\n",
       "notes                                       9422\n",
       "backup_notes                               37834\n",
       "dtype: int64"
      ]
     },
     "execution_count": 20,
     "metadata": {},
     "output_type": "execute_result"
    }
   ],
   "source": [
    "# droping empty rows (row with just row number but without patient entry\n",
    "# ======================================================================\n",
    "\n",
    "print(df.shape)\n",
    "\n",
    "# df.dropna(subset=['detected_state'], inplace=True)\n",
    "\n",
    "print(df.shape)\n",
    "df.isna().sum()"
   ]
  },
  {
   "cell_type": "markdown",
   "metadata": {},
   "source": [
    "## Save data"
   ]
  },
  {
   "cell_type": "code",
   "execution_count": 21,
   "metadata": {},
   "outputs": [],
   "source": [
    "# save to csv`\n",
    "df.to_csv('patients_data.csv', index=False)"
   ]
  },
  {
   "cell_type": "code",
   "execution_count": null,
   "metadata": {},
   "outputs": [],
   "source": []
  },
  {
   "cell_type": "code",
   "execution_count": null,
   "metadata": {},
   "outputs": [],
   "source": []
  },
  {
   "cell_type": "markdown",
   "metadata": {},
   "source": [
    "# State tested data"
   ]
  },
  {
   "cell_type": "code",
   "execution_count": 22,
   "metadata": {},
   "outputs": [
    {
     "data": {
      "text/plain": [
       "dict_keys(['states_tested_data'])"
      ]
     },
     "execution_count": 22,
     "metadata": {},
     "output_type": "execute_result"
    }
   ],
   "source": [
    "# get response from the web page\n",
    "response = requests.get('https://api.covid19india.org/state_test_data.json')\n",
    "\n",
    "# get contents from the response\n",
    "content = response.content\n",
    "\n",
    "# parse the json file\n",
    "parsed = json.loads(content)\n",
    "\n",
    "# keys\n",
    "parsed.keys()"
   ]
  },
  {
   "cell_type": "code",
   "execution_count": 23,
   "metadata": {},
   "outputs": [
    {
     "data": {
      "text/html": [
       "<div>\n",
       "<style scoped>\n",
       "    .dataframe tbody tr th:only-of-type {\n",
       "        vertical-align: middle;\n",
       "    }\n",
       "\n",
       "    .dataframe tbody tr th {\n",
       "        vertical-align: top;\n",
       "    }\n",
       "\n",
       "    .dataframe thead th {\n",
       "        text-align: right;\n",
       "    }\n",
       "</style>\n",
       "<table border=\"1\" class=\"dataframe\">\n",
       "  <thead>\n",
       "    <tr style=\"text-align: right;\">\n",
       "      <th></th>\n",
       "      <th>coronaenquirycalls</th>\n",
       "      <th>cumulativepeopleinquarantine</th>\n",
       "      <th>negative</th>\n",
       "      <th>numcallsstatehelpline</th>\n",
       "      <th>numicubeds</th>\n",
       "      <th>numisolationbeds</th>\n",
       "      <th>numventilators</th>\n",
       "      <th>populationncp2019projection</th>\n",
       "      <th>positive</th>\n",
       "      <th>source1</th>\n",
       "      <th>...</th>\n",
       "      <th>tagtotaltested</th>\n",
       "      <th>testpositivityrate</th>\n",
       "      <th>testspermillion</th>\n",
       "      <th>testsperpositivecase</th>\n",
       "      <th>testsperthousand</th>\n",
       "      <th>totalpeoplecurrentlyinquarantine</th>\n",
       "      <th>totalpeoplereleasedfromquarantine</th>\n",
       "      <th>totaltested</th>\n",
       "      <th>unconfirmed</th>\n",
       "      <th>updatedon</th>\n",
       "    </tr>\n",
       "  </thead>\n",
       "  <tbody>\n",
       "    <tr>\n",
       "      <th>1262</th>\n",
       "      <td></td>\n",
       "      <td></td>\n",
       "      <td></td>\n",
       "      <td></td>\n",
       "      <td>907</td>\n",
       "      <td></td>\n",
       "      <td>392</td>\n",
       "      <td>96906000</td>\n",
       "      <td>2825</td>\n",
       "      <td>https://www.wbhealth.gov.in/uploaded_files/cor...</td>\n",
       "      <td>...</td>\n",
       "      <td>Tested</td>\n",
       "      <td>3.02%</td>\n",
       "      <td>235693</td>\n",
       "      <td>33</td>\n",
       "      <td>235.69</td>\n",
       "      <td>11571</td>\n",
       "      <td>29615</td>\n",
       "      <td>93570</td>\n",
       "      <td></td>\n",
       "      <td>18/05/2020</td>\n",
       "    </tr>\n",
       "    <tr>\n",
       "      <th>1263</th>\n",
       "      <td></td>\n",
       "      <td></td>\n",
       "      <td></td>\n",
       "      <td></td>\n",
       "      <td>907</td>\n",
       "      <td></td>\n",
       "      <td>392</td>\n",
       "      <td>96906000</td>\n",
       "      <td>2961</td>\n",
       "      <td>https://www.wbhealth.gov.in/uploaded_files/cor...</td>\n",
       "      <td>...</td>\n",
       "      <td>Tested</td>\n",
       "      <td>2.89%</td>\n",
       "      <td>257637</td>\n",
       "      <td>35</td>\n",
       "      <td>257.64</td>\n",
       "      <td>12482</td>\n",
       "      <td>32112</td>\n",
       "      <td>102282</td>\n",
       "      <td></td>\n",
       "      <td>19/05/2020</td>\n",
       "    </tr>\n",
       "    <tr>\n",
       "      <th>1264</th>\n",
       "      <td></td>\n",
       "      <td></td>\n",
       "      <td></td>\n",
       "      <td></td>\n",
       "      <td>907</td>\n",
       "      <td></td>\n",
       "      <td>392</td>\n",
       "      <td>96906000</td>\n",
       "      <td>3103</td>\n",
       "      <td>https://www.wbhealth.gov.in/uploaded_files/cor...</td>\n",
       "      <td>...</td>\n",
       "      <td>Tested</td>\n",
       "      <td>2.80%</td>\n",
       "      <td>279602</td>\n",
       "      <td>36</td>\n",
       "      <td>279.60</td>\n",
       "      <td>12661</td>\n",
       "      <td>34104</td>\n",
       "      <td>111002</td>\n",
       "      <td></td>\n",
       "      <td>20/05/2020</td>\n",
       "    </tr>\n",
       "  </tbody>\n",
       "</table>\n",
       "<p>3 rows × 23 columns</p>\n",
       "</div>"
      ],
      "text/plain": [
       "     coronaenquirycalls cumulativepeopleinquarantine negative  \\\n",
       "1262                                                            \n",
       "1263                                                            \n",
       "1264                                                            \n",
       "\n",
       "     numcallsstatehelpline numicubeds numisolationbeds numventilators  \\\n",
       "1262                              907                             392   \n",
       "1263                              907                             392   \n",
       "1264                              907                             392   \n",
       "\n",
       "     populationncp2019projection positive  \\\n",
       "1262                    96906000     2825   \n",
       "1263                    96906000     2961   \n",
       "1264                    96906000     3103   \n",
       "\n",
       "                                                source1  ... tagtotaltested  \\\n",
       "1262  https://www.wbhealth.gov.in/uploaded_files/cor...  ...         Tested   \n",
       "1263  https://www.wbhealth.gov.in/uploaded_files/cor...  ...         Tested   \n",
       "1264  https://www.wbhealth.gov.in/uploaded_files/cor...  ...         Tested   \n",
       "\n",
       "     testpositivityrate testspermillion testsperpositivecase testsperthousand  \\\n",
       "1262              3.02%          235693                   33           235.69   \n",
       "1263              2.89%          257637                   35           257.64   \n",
       "1264              2.80%          279602                   36           279.60   \n",
       "\n",
       "     totalpeoplecurrentlyinquarantine totalpeoplereleasedfromquarantine  \\\n",
       "1262                            11571                             29615   \n",
       "1263                            12482                             32112   \n",
       "1264                            12661                             34104   \n",
       "\n",
       "     totaltested unconfirmed   updatedon  \n",
       "1262       93570              18/05/2020  \n",
       "1263      102282              19/05/2020  \n",
       "1264      111002              20/05/2020  \n",
       "\n",
       "[3 rows x 23 columns]"
      ]
     },
     "execution_count": 23,
     "metadata": {},
     "output_type": "execute_result"
    }
   ],
   "source": [
    "# save data in a dataframe\n",
    "th = pd.DataFrame(parsed['states_tested_data'])\n",
    "\n",
    "# first few rows\n",
    "th.tail(3)"
   ]
  },
  {
   "cell_type": "code",
   "execution_count": 24,
   "metadata": {},
   "outputs": [
    {
     "data": {
      "text/plain": [
       "Index(['coronaenquirycalls', 'cumulativepeopleinquarantine', 'negative',\n",
       "       'numcallsstatehelpline', 'numicubeds', 'numisolationbeds',\n",
       "       'numventilators', 'populationncp2019projection', 'positive', 'source1',\n",
       "       'source2', 'state', 'tagpeopleinquarantine', 'tagtotaltested',\n",
       "       'testpositivityrate', 'testspermillion', 'testsperpositivecase',\n",
       "       'testsperthousand', 'totalpeoplecurrentlyinquarantine',\n",
       "       'totalpeoplereleasedfromquarantine', 'totaltested', 'unconfirmed',\n",
       "       'updatedon'],\n",
       "      dtype='object')"
      ]
     },
     "execution_count": 24,
     "metadata": {},
     "output_type": "execute_result"
    }
   ],
   "source": [
    "th.columns"
   ]
  },
  {
   "cell_type": "code",
   "execution_count": 25,
   "metadata": {},
   "outputs": [
    {
     "data": {
      "text/plain": [
       "23"
      ]
     },
     "execution_count": 25,
     "metadata": {},
     "output_type": "execute_result"
    }
   ],
   "source": [
    "len(th.columns)"
   ]
  },
  {
   "cell_type": "code",
   "execution_count": 26,
   "metadata": {},
   "outputs": [],
   "source": [
    "# save to csv`\n",
    "th.to_csv('tests_latest_state_level.csv', index=False)"
   ]
  },
  {
   "cell_type": "markdown",
   "metadata": {},
   "source": [
    "## Zones"
   ]
  },
  {
   "cell_type": "code",
   "execution_count": 27,
   "metadata": {},
   "outputs": [
    {
     "data": {
      "text/plain": [
       "dict_keys(['zones'])"
      ]
     },
     "execution_count": 27,
     "metadata": {},
     "output_type": "execute_result"
    }
   ],
   "source": [
    "# get response from the web page\n",
    "response = requests.get('https://api.covid19india.org/zones.json')\n",
    "\n",
    "# get contents from the response\n",
    "content = response.content\n",
    "\n",
    "# parse the json file\n",
    "parsed = json.loads(content)\n",
    "\n",
    "# keys\n",
    "parsed.keys()"
   ]
  },
  {
   "cell_type": "code",
   "execution_count": 28,
   "metadata": {
    "scrolled": true
   },
   "outputs": [
    {
     "data": {
      "text/html": [
       "<div>\n",
       "<style scoped>\n",
       "    .dataframe tbody tr th:only-of-type {\n",
       "        vertical-align: middle;\n",
       "    }\n",
       "\n",
       "    .dataframe tbody tr th {\n",
       "        vertical-align: top;\n",
       "    }\n",
       "\n",
       "    .dataframe thead th {\n",
       "        text-align: right;\n",
       "    }\n",
       "</style>\n",
       "<table border=\"1\" class=\"dataframe\">\n",
       "  <thead>\n",
       "    <tr style=\"text-align: right;\">\n",
       "      <th></th>\n",
       "      <th>district</th>\n",
       "      <th>districtcode</th>\n",
       "      <th>lastupdated</th>\n",
       "      <th>source</th>\n",
       "      <th>state</th>\n",
       "      <th>statecode</th>\n",
       "      <th>zone</th>\n",
       "    </tr>\n",
       "  </thead>\n",
       "  <tbody>\n",
       "    <tr>\n",
       "      <th>0</th>\n",
       "      <td>Nicobars</td>\n",
       "      <td>AN_Nicobars</td>\n",
       "      <td>01/05/2020</td>\n",
       "      <td>https://www.facebook.com/airnewsalerts/photos/...</td>\n",
       "      <td>Andaman and Nicobar Islands</td>\n",
       "      <td>AN</td>\n",
       "      <td>Green</td>\n",
       "    </tr>\n",
       "    <tr>\n",
       "      <th>1</th>\n",
       "      <td>North and Middle Andaman</td>\n",
       "      <td>AN_North and Middle Andaman</td>\n",
       "      <td>01/05/2020</td>\n",
       "      <td>https://www.facebook.com/airnewsalerts/photos/...</td>\n",
       "      <td>Andaman and Nicobar Islands</td>\n",
       "      <td>AN</td>\n",
       "      <td>Green</td>\n",
       "    </tr>\n",
       "    <tr>\n",
       "      <th>2</th>\n",
       "      <td>South Andaman</td>\n",
       "      <td>AN_South Andaman</td>\n",
       "      <td>01/05/2020</td>\n",
       "      <td>https://www.facebook.com/airnewsalerts/photos/...</td>\n",
       "      <td>Andaman and Nicobar Islands</td>\n",
       "      <td>AN</td>\n",
       "      <td>Red</td>\n",
       "    </tr>\n",
       "  </tbody>\n",
       "</table>\n",
       "</div>"
      ],
      "text/plain": [
       "                   district                 districtcode lastupdated  \\\n",
       "0                  Nicobars                  AN_Nicobars  01/05/2020   \n",
       "1  North and Middle Andaman  AN_North and Middle Andaman  01/05/2020   \n",
       "2             South Andaman             AN_South Andaman  01/05/2020   \n",
       "\n",
       "                                              source  \\\n",
       "0  https://www.facebook.com/airnewsalerts/photos/...   \n",
       "1  https://www.facebook.com/airnewsalerts/photos/...   \n",
       "2  https://www.facebook.com/airnewsalerts/photos/...   \n",
       "\n",
       "                         state statecode   zone  \n",
       "0  Andaman and Nicobar Islands        AN  Green  \n",
       "1  Andaman and Nicobar Islands        AN  Green  \n",
       "2  Andaman and Nicobar Islands        AN    Red  "
      ]
     },
     "execution_count": 28,
     "metadata": {},
     "output_type": "execute_result"
    }
   ],
   "source": [
    "zo = pd.DataFrame(parsed['zones'])\n",
    "zo.head(3)"
   ]
  },
  {
   "cell_type": "code",
   "execution_count": 29,
   "metadata": {},
   "outputs": [],
   "source": [
    "# save to csv`\n",
    "zo.to_csv('zones.csv', index=False)"
   ]
  },
  {
   "cell_type": "markdown",
   "metadata": {},
   "source": [
    "## National level daily"
   ]
  },
  {
   "cell_type": "code",
   "execution_count": 30,
   "metadata": {},
   "outputs": [
    {
     "data": {
      "text/plain": [
       "dict_keys(['cases_time_series', 'statewise', 'tested'])"
      ]
     },
     "execution_count": 30,
     "metadata": {},
     "output_type": "execute_result"
    }
   ],
   "source": [
    "response = requests.get('https://api.covid19india.org/data.json')\n",
    "content = response.content\n",
    "parsed = json.loads(content)\n",
    "parsed.keys()"
   ]
  },
  {
   "cell_type": "code",
   "execution_count": 31,
   "metadata": {},
   "outputs": [
    {
     "data": {
      "text/html": [
       "<div>\n",
       "<style scoped>\n",
       "    .dataframe tbody tr th:only-of-type {\n",
       "        vertical-align: middle;\n",
       "    }\n",
       "\n",
       "    .dataframe tbody tr th {\n",
       "        vertical-align: top;\n",
       "    }\n",
       "\n",
       "    .dataframe thead th {\n",
       "        text-align: right;\n",
       "    }\n",
       "</style>\n",
       "<table border=\"1\" class=\"dataframe\">\n",
       "  <thead>\n",
       "    <tr style=\"text-align: right;\">\n",
       "      <th></th>\n",
       "      <th>dailyconfirmed</th>\n",
       "      <th>dailydeceased</th>\n",
       "      <th>dailyrecovered</th>\n",
       "      <th>date</th>\n",
       "      <th>totalconfirmed</th>\n",
       "      <th>totaldeceased</th>\n",
       "      <th>totalrecovered</th>\n",
       "    </tr>\n",
       "  </thead>\n",
       "  <tbody>\n",
       "    <tr>\n",
       "      <th>0</th>\n",
       "      <td>1</td>\n",
       "      <td>0</td>\n",
       "      <td>0</td>\n",
       "      <td>30 January</td>\n",
       "      <td>1</td>\n",
       "      <td>0</td>\n",
       "      <td>0</td>\n",
       "    </tr>\n",
       "    <tr>\n",
       "      <th>1</th>\n",
       "      <td>0</td>\n",
       "      <td>0</td>\n",
       "      <td>0</td>\n",
       "      <td>31 January</td>\n",
       "      <td>1</td>\n",
       "      <td>0</td>\n",
       "      <td>0</td>\n",
       "    </tr>\n",
       "    <tr>\n",
       "      <th>2</th>\n",
       "      <td>0</td>\n",
       "      <td>0</td>\n",
       "      <td>0</td>\n",
       "      <td>01 February</td>\n",
       "      <td>1</td>\n",
       "      <td>0</td>\n",
       "      <td>0</td>\n",
       "    </tr>\n",
       "    <tr>\n",
       "      <th>3</th>\n",
       "      <td>1</td>\n",
       "      <td>0</td>\n",
       "      <td>0</td>\n",
       "      <td>02 February</td>\n",
       "      <td>2</td>\n",
       "      <td>0</td>\n",
       "      <td>0</td>\n",
       "    </tr>\n",
       "    <tr>\n",
       "      <th>4</th>\n",
       "      <td>1</td>\n",
       "      <td>0</td>\n",
       "      <td>0</td>\n",
       "      <td>03 February</td>\n",
       "      <td>3</td>\n",
       "      <td>0</td>\n",
       "      <td>0</td>\n",
       "    </tr>\n",
       "  </tbody>\n",
       "</table>\n",
       "</div>"
      ],
      "text/plain": [
       "  dailyconfirmed dailydeceased dailyrecovered          date totalconfirmed  \\\n",
       "0              1             0              0   30 January               1   \n",
       "1              0             0              0   31 January               1   \n",
       "2              0             0              0  01 February               1   \n",
       "3              1             0              0  02 February               2   \n",
       "4              1             0              0  03 February               3   \n",
       "\n",
       "  totaldeceased totalrecovered  \n",
       "0             0              0  \n",
       "1             0              0  \n",
       "2             0              0  \n",
       "3             0              0  \n",
       "4             0              0  "
      ]
     },
     "execution_count": 31,
     "metadata": {},
     "output_type": "execute_result"
    }
   ],
   "source": [
    "national = pd.DataFrame(parsed['cases_time_series'])\n",
    "national.head()"
   ]
  },
  {
   "cell_type": "code",
   "execution_count": 32,
   "metadata": {},
   "outputs": [
    {
     "data": {
      "text/plain": [
       "Index(['dailyconfirmed', 'dailydeceased', 'dailyrecovered', 'date',\n",
       "       'totalconfirmed', 'totaldeceased', 'totalrecovered'],\n",
       "      dtype='object')"
      ]
     },
     "execution_count": 32,
     "metadata": {},
     "output_type": "execute_result"
    }
   ],
   "source": [
    "national.columns"
   ]
  },
  {
   "cell_type": "code",
   "execution_count": 33,
   "metadata": {},
   "outputs": [
    {
     "data": {
      "text/html": [
       "<div>\n",
       "<style scoped>\n",
       "    .dataframe tbody tr th:only-of-type {\n",
       "        vertical-align: middle;\n",
       "    }\n",
       "\n",
       "    .dataframe tbody tr th {\n",
       "        vertical-align: top;\n",
       "    }\n",
       "\n",
       "    .dataframe thead th {\n",
       "        text-align: right;\n",
       "    }\n",
       "</style>\n",
       "<table border=\"1\" class=\"dataframe\">\n",
       "  <thead>\n",
       "    <tr style=\"text-align: right;\">\n",
       "      <th></th>\n",
       "      <th>date</th>\n",
       "      <th>totalconfirmed</th>\n",
       "      <th>totaldeceased</th>\n",
       "      <th>totalrecovered</th>\n",
       "      <th>dailyconfirmed</th>\n",
       "      <th>dailydeceased</th>\n",
       "      <th>dailyrecovered</th>\n",
       "    </tr>\n",
       "  </thead>\n",
       "  <tbody>\n",
       "    <tr>\n",
       "      <th>0</th>\n",
       "      <td>30 January</td>\n",
       "      <td>1</td>\n",
       "      <td>0</td>\n",
       "      <td>0</td>\n",
       "      <td>1</td>\n",
       "      <td>0</td>\n",
       "      <td>0</td>\n",
       "    </tr>\n",
       "    <tr>\n",
       "      <th>1</th>\n",
       "      <td>31 January</td>\n",
       "      <td>1</td>\n",
       "      <td>0</td>\n",
       "      <td>0</td>\n",
       "      <td>0</td>\n",
       "      <td>0</td>\n",
       "      <td>0</td>\n",
       "    </tr>\n",
       "    <tr>\n",
       "      <th>2</th>\n",
       "      <td>01 February</td>\n",
       "      <td>1</td>\n",
       "      <td>0</td>\n",
       "      <td>0</td>\n",
       "      <td>0</td>\n",
       "      <td>0</td>\n",
       "      <td>0</td>\n",
       "    </tr>\n",
       "    <tr>\n",
       "      <th>3</th>\n",
       "      <td>02 February</td>\n",
       "      <td>2</td>\n",
       "      <td>0</td>\n",
       "      <td>0</td>\n",
       "      <td>1</td>\n",
       "      <td>0</td>\n",
       "      <td>0</td>\n",
       "    </tr>\n",
       "    <tr>\n",
       "      <th>4</th>\n",
       "      <td>03 February</td>\n",
       "      <td>3</td>\n",
       "      <td>0</td>\n",
       "      <td>0</td>\n",
       "      <td>1</td>\n",
       "      <td>0</td>\n",
       "      <td>0</td>\n",
       "    </tr>\n",
       "  </tbody>\n",
       "</table>\n",
       "</div>"
      ],
      "text/plain": [
       "           date totalconfirmed totaldeceased totalrecovered dailyconfirmed  \\\n",
       "0   30 January               1             0              0              1   \n",
       "1   31 January               1             0              0              0   \n",
       "2  01 February               1             0              0              0   \n",
       "3  02 February               2             0              0              1   \n",
       "4  03 February               3             0              0              1   \n",
       "\n",
       "  dailydeceased dailyrecovered  \n",
       "0             0              0  \n",
       "1             0              0  \n",
       "2             0              0  \n",
       "3             0              0  \n",
       "4             0              0  "
      ]
     },
     "execution_count": 33,
     "metadata": {},
     "output_type": "execute_result"
    }
   ],
   "source": [
    "national = national[['date', 'totalconfirmed', 'totaldeceased', 'totalrecovered', \n",
    "                     'dailyconfirmed', 'dailydeceased', 'dailyrecovered']]\n",
    "national.head()"
   ]
  },
  {
   "cell_type": "code",
   "execution_count": 34,
   "metadata": {},
   "outputs": [],
   "source": [
    "# save to csv`\n",
    "national.to_csv('nation_level_daily.csv', index=False)"
   ]
  },
  {
   "cell_type": "code",
   "execution_count": null,
   "metadata": {},
   "outputs": [],
   "source": []
  },
  {
   "cell_type": "markdown",
   "metadata": {},
   "source": [
    "## National level latest"
   ]
  },
  {
   "cell_type": "code",
   "execution_count": 35,
   "metadata": {},
   "outputs": [
    {
     "data": {
      "text/html": [
       "<div>\n",
       "<style scoped>\n",
       "    .dataframe tbody tr th:only-of-type {\n",
       "        vertical-align: middle;\n",
       "    }\n",
       "\n",
       "    .dataframe tbody tr th {\n",
       "        vertical-align: top;\n",
       "    }\n",
       "\n",
       "    .dataframe thead th {\n",
       "        text-align: right;\n",
       "    }\n",
       "</style>\n",
       "<table border=\"1\" class=\"dataframe\">\n",
       "  <thead>\n",
       "    <tr style=\"text-align: right;\">\n",
       "      <th></th>\n",
       "      <th>active</th>\n",
       "      <th>confirmed</th>\n",
       "      <th>deaths</th>\n",
       "      <th>deltaconfirmed</th>\n",
       "      <th>deltadeaths</th>\n",
       "      <th>deltarecovered</th>\n",
       "      <th>lastupdatedtime</th>\n",
       "      <th>recovered</th>\n",
       "      <th>state</th>\n",
       "      <th>statecode</th>\n",
       "      <th>statenotes</th>\n",
       "    </tr>\n",
       "  </thead>\n",
       "  <tbody>\n",
       "    <tr>\n",
       "      <th>0</th>\n",
       "      <td>66308</td>\n",
       "      <td>118452</td>\n",
       "      <td>3584</td>\n",
       "      <td>226</td>\n",
       "      <td>0</td>\n",
       "      <td>0</td>\n",
       "      <td>22/05/2020 09:23:23</td>\n",
       "      <td>48553</td>\n",
       "      <td>Total</td>\n",
       "      <td>TT</td>\n",
       "      <td></td>\n",
       "    </tr>\n",
       "    <tr>\n",
       "      <th>1</th>\n",
       "      <td>28462</td>\n",
       "      <td>41642</td>\n",
       "      <td>1454</td>\n",
       "      <td>0</td>\n",
       "      <td>0</td>\n",
       "      <td>0</td>\n",
       "      <td>21/05/2020 23:09:24</td>\n",
       "      <td>11726</td>\n",
       "      <td>Maharashtra</td>\n",
       "      <td>MH</td>\n",
       "      <td></td>\n",
       "    </tr>\n",
       "    <tr>\n",
       "      <th>2</th>\n",
       "      <td>7590</td>\n",
       "      <td>13967</td>\n",
       "      <td>95</td>\n",
       "      <td>0</td>\n",
       "      <td>0</td>\n",
       "      <td>0</td>\n",
       "      <td>21/05/2020 18:57:24</td>\n",
       "      <td>6282</td>\n",
       "      <td>Tamil Nadu</td>\n",
       "      <td>TN</td>\n",
       "      <td></td>\n",
       "    </tr>\n",
       "    <tr>\n",
       "      <th>3</th>\n",
       "      <td>6649</td>\n",
       "      <td>12910</td>\n",
       "      <td>773</td>\n",
       "      <td>0</td>\n",
       "      <td>0</td>\n",
       "      <td>0</td>\n",
       "      <td>21/05/2020 20:33:26</td>\n",
       "      <td>5488</td>\n",
       "      <td>Gujarat</td>\n",
       "      <td>GJ</td>\n",
       "      <td></td>\n",
       "    </tr>\n",
       "    <tr>\n",
       "      <th>4</th>\n",
       "      <td>5898</td>\n",
       "      <td>11659</td>\n",
       "      <td>194</td>\n",
       "      <td>0</td>\n",
       "      <td>0</td>\n",
       "      <td>0</td>\n",
       "      <td>21/05/2020 15:37:24</td>\n",
       "      <td>5567</td>\n",
       "      <td>Delhi</td>\n",
       "      <td>DL</td>\n",
       "      <td>[10-May]&lt;br&gt;\\n\\nDelhi will be releasing bullet...</td>\n",
       "    </tr>\n",
       "  </tbody>\n",
       "</table>\n",
       "</div>"
      ],
      "text/plain": [
       "  active confirmed deaths deltaconfirmed deltadeaths deltarecovered  \\\n",
       "0  66308    118452   3584            226           0              0   \n",
       "1  28462     41642   1454              0           0              0   \n",
       "2   7590     13967     95              0           0              0   \n",
       "3   6649     12910    773              0           0              0   \n",
       "4   5898     11659    194              0           0              0   \n",
       "\n",
       "       lastupdatedtime recovered        state statecode  \\\n",
       "0  22/05/2020 09:23:23     48553        Total        TT   \n",
       "1  21/05/2020 23:09:24     11726  Maharashtra        MH   \n",
       "2  21/05/2020 18:57:24      6282   Tamil Nadu        TN   \n",
       "3  21/05/2020 20:33:26      5488      Gujarat        GJ   \n",
       "4  21/05/2020 15:37:24      5567        Delhi        DL   \n",
       "\n",
       "                                          statenotes  \n",
       "0                                                     \n",
       "1                                                     \n",
       "2                                                     \n",
       "3                                                     \n",
       "4  [10-May]<br>\\n\\nDelhi will be releasing bullet...  "
      ]
     },
     "execution_count": 35,
     "metadata": {},
     "output_type": "execute_result"
    }
   ],
   "source": [
    "state_level = pd.DataFrame(parsed['statewise'])\n",
    "state_level.head()"
   ]
  },
  {
   "cell_type": "code",
   "execution_count": 36,
   "metadata": {},
   "outputs": [
    {
     "data": {
      "text/plain": [
       "Index(['active', 'confirmed', 'deaths', 'deltaconfirmed', 'deltadeaths',\n",
       "       'deltarecovered', 'lastupdatedtime', 'recovered', 'state', 'statecode',\n",
       "       'statenotes'],\n",
       "      dtype='object')"
      ]
     },
     "execution_count": 36,
     "metadata": {},
     "output_type": "execute_result"
    }
   ],
   "source": [
    "state_level.columns"
   ]
  },
  {
   "cell_type": "code",
   "execution_count": 37,
   "metadata": {},
   "outputs": [
    {
     "data": {
      "text/html": [
       "<div>\n",
       "<style scoped>\n",
       "    .dataframe tbody tr th:only-of-type {\n",
       "        vertical-align: middle;\n",
       "    }\n",
       "\n",
       "    .dataframe tbody tr th {\n",
       "        vertical-align: top;\n",
       "    }\n",
       "\n",
       "    .dataframe thead th {\n",
       "        text-align: right;\n",
       "    }\n",
       "</style>\n",
       "<table border=\"1\" class=\"dataframe\">\n",
       "  <thead>\n",
       "    <tr style=\"text-align: right;\">\n",
       "      <th></th>\n",
       "      <th>state</th>\n",
       "      <th>statecode</th>\n",
       "      <th>lastupdatedtime</th>\n",
       "      <th>confirmed</th>\n",
       "      <th>active</th>\n",
       "      <th>deaths</th>\n",
       "      <th>recovered</th>\n",
       "      <th>deltaconfirmed</th>\n",
       "      <th>deltadeaths</th>\n",
       "      <th>deltarecovered</th>\n",
       "      <th>statenotes</th>\n",
       "    </tr>\n",
       "  </thead>\n",
       "  <tbody>\n",
       "    <tr>\n",
       "      <th>0</th>\n",
       "      <td>Total</td>\n",
       "      <td>TT</td>\n",
       "      <td>22/05/2020 09:23:23</td>\n",
       "      <td>118452</td>\n",
       "      <td>66308</td>\n",
       "      <td>3584</td>\n",
       "      <td>48553</td>\n",
       "      <td>226</td>\n",
       "      <td>0</td>\n",
       "      <td>0</td>\n",
       "      <td></td>\n",
       "    </tr>\n",
       "    <tr>\n",
       "      <th>1</th>\n",
       "      <td>Maharashtra</td>\n",
       "      <td>MH</td>\n",
       "      <td>21/05/2020 23:09:24</td>\n",
       "      <td>41642</td>\n",
       "      <td>28462</td>\n",
       "      <td>1454</td>\n",
       "      <td>11726</td>\n",
       "      <td>0</td>\n",
       "      <td>0</td>\n",
       "      <td>0</td>\n",
       "      <td></td>\n",
       "    </tr>\n",
       "    <tr>\n",
       "      <th>2</th>\n",
       "      <td>Tamil Nadu</td>\n",
       "      <td>TN</td>\n",
       "      <td>21/05/2020 18:57:24</td>\n",
       "      <td>13967</td>\n",
       "      <td>7590</td>\n",
       "      <td>95</td>\n",
       "      <td>6282</td>\n",
       "      <td>0</td>\n",
       "      <td>0</td>\n",
       "      <td>0</td>\n",
       "      <td></td>\n",
       "    </tr>\n",
       "    <tr>\n",
       "      <th>3</th>\n",
       "      <td>Gujarat</td>\n",
       "      <td>GJ</td>\n",
       "      <td>21/05/2020 20:33:26</td>\n",
       "      <td>12910</td>\n",
       "      <td>6649</td>\n",
       "      <td>773</td>\n",
       "      <td>5488</td>\n",
       "      <td>0</td>\n",
       "      <td>0</td>\n",
       "      <td>0</td>\n",
       "      <td></td>\n",
       "    </tr>\n",
       "    <tr>\n",
       "      <th>4</th>\n",
       "      <td>Delhi</td>\n",
       "      <td>DL</td>\n",
       "      <td>21/05/2020 15:37:24</td>\n",
       "      <td>11659</td>\n",
       "      <td>5898</td>\n",
       "      <td>194</td>\n",
       "      <td>5567</td>\n",
       "      <td>0</td>\n",
       "      <td>0</td>\n",
       "      <td>0</td>\n",
       "      <td>[10-May]&lt;br&gt;\\n\\nDelhi will be releasing bullet...</td>\n",
       "    </tr>\n",
       "  </tbody>\n",
       "</table>\n",
       "</div>"
      ],
      "text/plain": [
       "         state statecode      lastupdatedtime confirmed active deaths  \\\n",
       "0        Total        TT  22/05/2020 09:23:23    118452  66308   3584   \n",
       "1  Maharashtra        MH  21/05/2020 23:09:24     41642  28462   1454   \n",
       "2   Tamil Nadu        TN  21/05/2020 18:57:24     13967   7590     95   \n",
       "3      Gujarat        GJ  21/05/2020 20:33:26     12910   6649    773   \n",
       "4        Delhi        DL  21/05/2020 15:37:24     11659   5898    194   \n",
       "\n",
       "  recovered deltaconfirmed deltadeaths deltarecovered  \\\n",
       "0     48553            226           0              0   \n",
       "1     11726              0           0              0   \n",
       "2      6282              0           0              0   \n",
       "3      5488              0           0              0   \n",
       "4      5567              0           0              0   \n",
       "\n",
       "                                          statenotes  \n",
       "0                                                     \n",
       "1                                                     \n",
       "2                                                     \n",
       "3                                                     \n",
       "4  [10-May]<br>\\n\\nDelhi will be releasing bullet...  "
      ]
     },
     "execution_count": 37,
     "metadata": {},
     "output_type": "execute_result"
    }
   ],
   "source": [
    "state_level = state_level[['state', 'statecode', 'lastupdatedtime',  \n",
    "                           'confirmed', 'active', 'deaths', 'recovered',\n",
    "                           'deltaconfirmed', 'deltadeaths', 'deltarecovered', 'statenotes']]\n",
    "state_level.head()"
   ]
  },
  {
   "cell_type": "code",
   "execution_count": 38,
   "metadata": {},
   "outputs": [],
   "source": [
    "# save to csv`\n",
    "state_level.to_csv('state_level_latest.csv', index=False)"
   ]
  },
  {
   "cell_type": "code",
   "execution_count": null,
   "metadata": {},
   "outputs": [],
   "source": []
  },
  {
   "cell_type": "markdown",
   "metadata": {},
   "source": [
    "## National level tests daily"
   ]
  },
  {
   "cell_type": "code",
   "execution_count": 39,
   "metadata": {},
   "outputs": [],
   "source": [
    "tested_daily = pd.DataFrame(parsed['tested'])"
   ]
  },
  {
   "cell_type": "code",
   "execution_count": 40,
   "metadata": {},
   "outputs": [
    {
     "data": {
      "text/html": [
       "<div>\n",
       "<style scoped>\n",
       "    .dataframe tbody tr th:only-of-type {\n",
       "        vertical-align: middle;\n",
       "    }\n",
       "\n",
       "    .dataframe tbody tr th {\n",
       "        vertical-align: top;\n",
       "    }\n",
       "\n",
       "    .dataframe thead th {\n",
       "        text-align: right;\n",
       "    }\n",
       "</style>\n",
       "<table border=\"1\" class=\"dataframe\">\n",
       "  <thead>\n",
       "    <tr style=\"text-align: right;\">\n",
       "      <th></th>\n",
       "      <th>individualstestedperconfirmedcase</th>\n",
       "      <th>positivecasesfromsamplesreported</th>\n",
       "      <th>samplereportedtoday</th>\n",
       "      <th>source</th>\n",
       "      <th>testpositivityrate</th>\n",
       "      <th>testsconductedbyprivatelabs</th>\n",
       "      <th>testsperconfirmedcase</th>\n",
       "      <th>testspermillion</th>\n",
       "      <th>totalindividualstested</th>\n",
       "      <th>totalpositivecases</th>\n",
       "      <th>totalsamplestested</th>\n",
       "      <th>updatetimestamp</th>\n",
       "    </tr>\n",
       "  </thead>\n",
       "  <tbody>\n",
       "    <tr>\n",
       "      <th>0</th>\n",
       "      <td>75.64</td>\n",
       "      <td></td>\n",
       "      <td></td>\n",
       "      <td>Press_Release_ICMR_13March2020.pdf</td>\n",
       "      <td>1.20%</td>\n",
       "      <td></td>\n",
       "      <td>83.33</td>\n",
       "      <td>5</td>\n",
       "      <td>5900</td>\n",
       "      <td>78</td>\n",
       "      <td>6500</td>\n",
       "      <td>13/03/2020 00:00:00</td>\n",
       "    </tr>\n",
       "    <tr>\n",
       "      <th>1</th>\n",
       "      <td>81.57</td>\n",
       "      <td></td>\n",
       "      <td></td>\n",
       "      <td>ICMR_website_update_18March_6PM_IST.pdf</td>\n",
       "      <td>1.14%</td>\n",
       "      <td></td>\n",
       "      <td>87.50</td>\n",
       "      <td>10</td>\n",
       "      <td>12235</td>\n",
       "      <td>150</td>\n",
       "      <td>13125</td>\n",
       "      <td>18/03/2020 18:00:00</td>\n",
       "    </tr>\n",
       "    <tr>\n",
       "      <th>2</th>\n",
       "      <td>73.96</td>\n",
       "      <td></td>\n",
       "      <td></td>\n",
       "      <td>ICMR_website_update_19March_10AM_IST_V2.pdf</td>\n",
       "      <td>1.26%</td>\n",
       "      <td></td>\n",
       "      <td>79.26</td>\n",
       "      <td>10</td>\n",
       "      <td>12426</td>\n",
       "      <td>168</td>\n",
       "      <td>13316</td>\n",
       "      <td>19/03/2020 10:00:00</td>\n",
       "    </tr>\n",
       "    <tr>\n",
       "      <th>3</th>\n",
       "      <td>72.99</td>\n",
       "      <td></td>\n",
       "      <td></td>\n",
       "      <td>ICMR_website_update_19March_6PM_IST.pdf</td>\n",
       "      <td>1.28%</td>\n",
       "      <td></td>\n",
       "      <td>77.88</td>\n",
       "      <td>11</td>\n",
       "      <td>13285</td>\n",
       "      <td>182</td>\n",
       "      <td>14175</td>\n",
       "      <td>19/03/2020 18:00:00</td>\n",
       "    </tr>\n",
       "    <tr>\n",
       "      <th>4</th>\n",
       "      <td>65.47</td>\n",
       "      <td></td>\n",
       "      <td></td>\n",
       "      <td>ICMR_website_update_20March_10AM_IST.pdf</td>\n",
       "      <td>1.43%</td>\n",
       "      <td></td>\n",
       "      <td>69.79</td>\n",
       "      <td>11</td>\n",
       "      <td>13486</td>\n",
       "      <td>206</td>\n",
       "      <td>14376</td>\n",
       "      <td>20/03/2020 10:00:00</td>\n",
       "    </tr>\n",
       "  </tbody>\n",
       "</table>\n",
       "</div>"
      ],
      "text/plain": [
       "  individualstestedperconfirmedcase positivecasesfromsamplesreported  \\\n",
       "0                             75.64                                    \n",
       "1                             81.57                                    \n",
       "2                             73.96                                    \n",
       "3                             72.99                                    \n",
       "4                             65.47                                    \n",
       "\n",
       "  samplereportedtoday                                       source  \\\n",
       "0                               Press_Release_ICMR_13March2020.pdf   \n",
       "1                          ICMR_website_update_18March_6PM_IST.pdf   \n",
       "2                      ICMR_website_update_19March_10AM_IST_V2.pdf   \n",
       "3                          ICMR_website_update_19March_6PM_IST.pdf   \n",
       "4                         ICMR_website_update_20March_10AM_IST.pdf   \n",
       "\n",
       "  testpositivityrate testsconductedbyprivatelabs testsperconfirmedcase  \\\n",
       "0              1.20%                                             83.33   \n",
       "1              1.14%                                             87.50   \n",
       "2              1.26%                                             79.26   \n",
       "3              1.28%                                             77.88   \n",
       "4              1.43%                                             69.79   \n",
       "\n",
       "  testspermillion totalindividualstested totalpositivecases  \\\n",
       "0               5                   5900                 78   \n",
       "1              10                  12235                150   \n",
       "2              10                  12426                168   \n",
       "3              11                  13285                182   \n",
       "4              11                  13486                206   \n",
       "\n",
       "  totalsamplestested      updatetimestamp  \n",
       "0               6500  13/03/2020 00:00:00  \n",
       "1              13125  18/03/2020 18:00:00  \n",
       "2              13316  19/03/2020 10:00:00  \n",
       "3              14175  19/03/2020 18:00:00  \n",
       "4              14376  20/03/2020 10:00:00  "
      ]
     },
     "execution_count": 40,
     "metadata": {},
     "output_type": "execute_result"
    }
   ],
   "source": [
    "tested_daily.head()"
   ]
  },
  {
   "cell_type": "code",
   "execution_count": 41,
   "metadata": {},
   "outputs": [
    {
     "data": {
      "text/plain": [
       "Index(['individualstestedperconfirmedcase', 'positivecasesfromsamplesreported',\n",
       "       'samplereportedtoday', 'source', 'testpositivityrate',\n",
       "       'testsconductedbyprivatelabs', 'testsperconfirmedcase',\n",
       "       'testspermillion', 'totalindividualstested', 'totalpositivecases',\n",
       "       'totalsamplestested', 'updatetimestamp'],\n",
       "      dtype='object')"
      ]
     },
     "execution_count": 41,
     "metadata": {},
     "output_type": "execute_result"
    }
   ],
   "source": [
    "tested_daily.columns"
   ]
  },
  {
   "cell_type": "code",
   "execution_count": 42,
   "metadata": {},
   "outputs": [
    {
     "data": {
      "text/html": [
       "<div>\n",
       "<style scoped>\n",
       "    .dataframe tbody tr th:only-of-type {\n",
       "        vertical-align: middle;\n",
       "    }\n",
       "\n",
       "    .dataframe tbody tr th {\n",
       "        vertical-align: top;\n",
       "    }\n",
       "\n",
       "    .dataframe thead th {\n",
       "        text-align: right;\n",
       "    }\n",
       "</style>\n",
       "<table border=\"1\" class=\"dataframe\">\n",
       "  <thead>\n",
       "    <tr style=\"text-align: right;\">\n",
       "      <th></th>\n",
       "      <th>updatetimestamp</th>\n",
       "      <th>totalsamplestested</th>\n",
       "      <th>totalindividualstested</th>\n",
       "      <th>totalpositivecases</th>\n",
       "      <th>testsperconfirmedcase</th>\n",
       "      <th>individualstestedperconfirmedcase</th>\n",
       "      <th>testpositivityrate</th>\n",
       "      <th>testsconductedbyprivatelabs</th>\n",
       "      <th>positivecasesfromsamplesreported</th>\n",
       "      <th>samplereportedtoday</th>\n",
       "      <th>source</th>\n",
       "    </tr>\n",
       "  </thead>\n",
       "  <tbody>\n",
       "    <tr>\n",
       "      <th>0</th>\n",
       "      <td>13/03/2020 00:00:00</td>\n",
       "      <td>6500</td>\n",
       "      <td>5900</td>\n",
       "      <td>78</td>\n",
       "      <td>83.33</td>\n",
       "      <td>75.64</td>\n",
       "      <td>1.20%</td>\n",
       "      <td></td>\n",
       "      <td></td>\n",
       "      <td></td>\n",
       "      <td>Press_Release_ICMR_13March2020.pdf</td>\n",
       "    </tr>\n",
       "    <tr>\n",
       "      <th>1</th>\n",
       "      <td>18/03/2020 18:00:00</td>\n",
       "      <td>13125</td>\n",
       "      <td>12235</td>\n",
       "      <td>150</td>\n",
       "      <td>87.50</td>\n",
       "      <td>81.57</td>\n",
       "      <td>1.14%</td>\n",
       "      <td></td>\n",
       "      <td></td>\n",
       "      <td></td>\n",
       "      <td>ICMR_website_update_18March_6PM_IST.pdf</td>\n",
       "    </tr>\n",
       "    <tr>\n",
       "      <th>2</th>\n",
       "      <td>19/03/2020 10:00:00</td>\n",
       "      <td>13316</td>\n",
       "      <td>12426</td>\n",
       "      <td>168</td>\n",
       "      <td>79.26</td>\n",
       "      <td>73.96</td>\n",
       "      <td>1.26%</td>\n",
       "      <td></td>\n",
       "      <td></td>\n",
       "      <td></td>\n",
       "      <td>ICMR_website_update_19March_10AM_IST_V2.pdf</td>\n",
       "    </tr>\n",
       "    <tr>\n",
       "      <th>3</th>\n",
       "      <td>19/03/2020 18:00:00</td>\n",
       "      <td>14175</td>\n",
       "      <td>13285</td>\n",
       "      <td>182</td>\n",
       "      <td>77.88</td>\n",
       "      <td>72.99</td>\n",
       "      <td>1.28%</td>\n",
       "      <td></td>\n",
       "      <td></td>\n",
       "      <td></td>\n",
       "      <td>ICMR_website_update_19March_6PM_IST.pdf</td>\n",
       "    </tr>\n",
       "    <tr>\n",
       "      <th>4</th>\n",
       "      <td>20/03/2020 10:00:00</td>\n",
       "      <td>14376</td>\n",
       "      <td>13486</td>\n",
       "      <td>206</td>\n",
       "      <td>69.79</td>\n",
       "      <td>65.47</td>\n",
       "      <td>1.43%</td>\n",
       "      <td></td>\n",
       "      <td></td>\n",
       "      <td></td>\n",
       "      <td>ICMR_website_update_20March_10AM_IST.pdf</td>\n",
       "    </tr>\n",
       "  </tbody>\n",
       "</table>\n",
       "</div>"
      ],
      "text/plain": [
       "       updatetimestamp totalsamplestested totalindividualstested  \\\n",
       "0  13/03/2020 00:00:00               6500                   5900   \n",
       "1  18/03/2020 18:00:00              13125                  12235   \n",
       "2  19/03/2020 10:00:00              13316                  12426   \n",
       "3  19/03/2020 18:00:00              14175                  13285   \n",
       "4  20/03/2020 10:00:00              14376                  13486   \n",
       "\n",
       "  totalpositivecases testsperconfirmedcase individualstestedperconfirmedcase  \\\n",
       "0                 78                 83.33                             75.64   \n",
       "1                150                 87.50                             81.57   \n",
       "2                168                 79.26                             73.96   \n",
       "3                182                 77.88                             72.99   \n",
       "4                206                 69.79                             65.47   \n",
       "\n",
       "  testpositivityrate testsconductedbyprivatelabs  \\\n",
       "0              1.20%                               \n",
       "1              1.14%                               \n",
       "2              1.26%                               \n",
       "3              1.28%                               \n",
       "4              1.43%                               \n",
       "\n",
       "  positivecasesfromsamplesreported samplereportedtoday  \\\n",
       "0                                                        \n",
       "1                                                        \n",
       "2                                                        \n",
       "3                                                        \n",
       "4                                                        \n",
       "\n",
       "                                        source  \n",
       "0           Press_Release_ICMR_13March2020.pdf  \n",
       "1      ICMR_website_update_18March_6PM_IST.pdf  \n",
       "2  ICMR_website_update_19March_10AM_IST_V2.pdf  \n",
       "3      ICMR_website_update_19March_6PM_IST.pdf  \n",
       "4     ICMR_website_update_20March_10AM_IST.pdf  "
      ]
     },
     "execution_count": 42,
     "metadata": {},
     "output_type": "execute_result"
    }
   ],
   "source": [
    "tested_daily = tested_daily[['updatetimestamp', 'totalsamplestested', 'totalindividualstested', \n",
    "                             'totalpositivecases', 'testsperconfirmedcase', \n",
    "                             'individualstestedperconfirmedcase',  'testpositivityrate', \n",
    "                             'testsconductedbyprivatelabs', 'positivecasesfromsamplesreported', \n",
    "                             'samplereportedtoday','source']]\n",
    "tested_daily.head()"
   ]
  },
  {
   "cell_type": "code",
   "execution_count": 43,
   "metadata": {},
   "outputs": [],
   "source": [
    "# save to csv`\n",
    "tested_daily.to_csv('tests_daily.csv', index=False)"
   ]
  },
  {
   "cell_type": "code",
   "execution_count": null,
   "metadata": {},
   "outputs": [],
   "source": []
  },
  {
   "cell_type": "code",
   "execution_count": null,
   "metadata": {},
   "outputs": [],
   "source": []
  },
  {
   "cell_type": "markdown",
   "metadata": {},
   "source": [
    "# District level latest"
   ]
  },
  {
   "cell_type": "code",
   "execution_count": 44,
   "metadata": {},
   "outputs": [
    {
     "data": {
      "text/plain": [
       "37"
      ]
     },
     "execution_count": 44,
     "metadata": {},
     "output_type": "execute_result"
    }
   ],
   "source": [
    "response = requests.get('https://api.covid19india.org/v2/state_district_wise.json')\n",
    "content = response.content\n",
    "parsed = json.loads(content)\n",
    "len(parsed)"
   ]
  },
  {
   "cell_type": "code",
   "execution_count": 45,
   "metadata": {},
   "outputs": [],
   "source": [
    "# parsed"
   ]
  },
  {
   "cell_type": "code",
   "execution_count": 46,
   "metadata": {},
   "outputs": [],
   "source": [
    "dfs = []\n",
    "\n",
    "for i in parsed:\n",
    "#     print(i['state'])\n",
    "    state_name = i['state']\n",
    "    state_code = i['statecode']\n",
    "    \n",
    "#     df = pd.DataFrame()\n",
    "\n",
    "    df = pd.DataFrame(i['districtData'])\n",
    "    df['state name'] = state_name\n",
    "    df['state code'] = state_code\n",
    "    \n",
    "    dfs.append(df)"
   ]
  },
  {
   "cell_type": "code",
   "execution_count": 47,
   "metadata": {},
   "outputs": [
    {
     "data": {
      "text/html": [
       "<div>\n",
       "<style scoped>\n",
       "    .dataframe tbody tr th:only-of-type {\n",
       "        vertical-align: middle;\n",
       "    }\n",
       "\n",
       "    .dataframe tbody tr th {\n",
       "        vertical-align: top;\n",
       "    }\n",
       "\n",
       "    .dataframe thead th {\n",
       "        text-align: right;\n",
       "    }\n",
       "</style>\n",
       "<table border=\"1\" class=\"dataframe\">\n",
       "  <thead>\n",
       "    <tr style=\"text-align: right;\">\n",
       "      <th></th>\n",
       "      <th>district</th>\n",
       "      <th>notes</th>\n",
       "      <th>active</th>\n",
       "      <th>confirmed</th>\n",
       "      <th>deceased</th>\n",
       "      <th>recovered</th>\n",
       "      <th>delta</th>\n",
       "      <th>state name</th>\n",
       "      <th>state code</th>\n",
       "    </tr>\n",
       "  </thead>\n",
       "  <tbody>\n",
       "    <tr>\n",
       "      <th>0</th>\n",
       "      <td>Unassigned</td>\n",
       "      <td></td>\n",
       "      <td>1096</td>\n",
       "      <td>1096</td>\n",
       "      <td>0</td>\n",
       "      <td>0</td>\n",
       "      <td>{'confirmed': 0, 'deceased': 0, 'recovered': 0}</td>\n",
       "      <td>State Unassigned</td>\n",
       "      <td>UN</td>\n",
       "    </tr>\n",
       "    <tr>\n",
       "      <th>0</th>\n",
       "      <td>Nicobars</td>\n",
       "      <td></td>\n",
       "      <td>0</td>\n",
       "      <td>0</td>\n",
       "      <td>0</td>\n",
       "      <td>0</td>\n",
       "      <td>{'confirmed': 0, 'deceased': 0, 'recovered': 0}</td>\n",
       "      <td>Andaman and Nicobar Islands</td>\n",
       "      <td>AN</td>\n",
       "    </tr>\n",
       "    <tr>\n",
       "      <th>1</th>\n",
       "      <td>North and Middle Andaman</td>\n",
       "      <td></td>\n",
       "      <td>0</td>\n",
       "      <td>1</td>\n",
       "      <td>0</td>\n",
       "      <td>1</td>\n",
       "      <td>{'confirmed': 0, 'deceased': 0, 'recovered': 0}</td>\n",
       "      <td>Andaman and Nicobar Islands</td>\n",
       "      <td>AN</td>\n",
       "    </tr>\n",
       "    <tr>\n",
       "      <th>2</th>\n",
       "      <td>South Andaman</td>\n",
       "      <td></td>\n",
       "      <td>0</td>\n",
       "      <td>32</td>\n",
       "      <td>0</td>\n",
       "      <td>32</td>\n",
       "      <td>{'confirmed': 0, 'deceased': 0, 'recovered': 0}</td>\n",
       "      <td>Andaman and Nicobar Islands</td>\n",
       "      <td>AN</td>\n",
       "    </tr>\n",
       "    <tr>\n",
       "      <th>0</th>\n",
       "      <td>Anantapur</td>\n",
       "      <td></td>\n",
       "      <td>40</td>\n",
       "      <td>136</td>\n",
       "      <td>4</td>\n",
       "      <td>92</td>\n",
       "      <td>{'confirmed': 0, 'deceased': 0, 'recovered': 0}</td>\n",
       "      <td>Andhra Pradesh</td>\n",
       "      <td>AP</td>\n",
       "    </tr>\n",
       "  </tbody>\n",
       "</table>\n",
       "</div>"
      ],
      "text/plain": [
       "                   district notes  active  confirmed  deceased  recovered  \\\n",
       "0                Unassigned          1096       1096         0          0   \n",
       "0                  Nicobars             0          0         0          0   \n",
       "1  North and Middle Andaman             0          1         0          1   \n",
       "2             South Andaman             0         32         0         32   \n",
       "0                 Anantapur            40        136         4         92   \n",
       "\n",
       "                                             delta  \\\n",
       "0  {'confirmed': 0, 'deceased': 0, 'recovered': 0}   \n",
       "0  {'confirmed': 0, 'deceased': 0, 'recovered': 0}   \n",
       "1  {'confirmed': 0, 'deceased': 0, 'recovered': 0}   \n",
       "2  {'confirmed': 0, 'deceased': 0, 'recovered': 0}   \n",
       "0  {'confirmed': 0, 'deceased': 0, 'recovered': 0}   \n",
       "\n",
       "                    state name state code  \n",
       "0             State Unassigned         UN  \n",
       "0  Andaman and Nicobar Islands         AN  \n",
       "1  Andaman and Nicobar Islands         AN  \n",
       "2  Andaman and Nicobar Islands         AN  \n",
       "0               Andhra Pradesh         AP  "
      ]
     },
     "execution_count": 47,
     "metadata": {},
     "output_type": "execute_result"
    }
   ],
   "source": [
    "district_level = pd.concat(dfs)\n",
    "district_level.head()"
   ]
  },
  {
   "cell_type": "code",
   "execution_count": 48,
   "metadata": {},
   "outputs": [],
   "source": [
    "delta_confirmed = []\n",
    "delta_deceased = []\n",
    "delta_recovered = []\n",
    "\n",
    "for i in district_level['delta'].values:\n",
    "    delta_confirmed.append(i['confirmed'])\n",
    "    delta_deceased.append(i['deceased'])\n",
    "    delta_recovered.append(i['recovered'])\n",
    "    \n",
    "district_level['delta_confirmed'] = delta_confirmed\n",
    "district_level['delta_deceased'] = delta_deceased\n",
    "district_level['delta_recovered'] = delta_recovered\n",
    "\n",
    "district_level = district_level.drop('delta', axis=1)"
   ]
  },
  {
   "cell_type": "code",
   "execution_count": 49,
   "metadata": {},
   "outputs": [
    {
     "data": {
      "text/plain": [
       "Index(['district', 'notes', 'active', 'confirmed', 'deceased', 'recovered',\n",
       "       'state name', 'state code', 'delta_confirmed', 'delta_deceased',\n",
       "       'delta_recovered'],\n",
       "      dtype='object')"
      ]
     },
     "execution_count": 49,
     "metadata": {},
     "output_type": "execute_result"
    }
   ],
   "source": [
    "district_level.columns"
   ]
  },
  {
   "cell_type": "code",
   "execution_count": 50,
   "metadata": {},
   "outputs": [
    {
     "data": {
      "text/html": [
       "<div>\n",
       "<style scoped>\n",
       "    .dataframe tbody tr th:only-of-type {\n",
       "        vertical-align: middle;\n",
       "    }\n",
       "\n",
       "    .dataframe tbody tr th {\n",
       "        vertical-align: top;\n",
       "    }\n",
       "\n",
       "    .dataframe thead th {\n",
       "        text-align: right;\n",
       "    }\n",
       "</style>\n",
       "<table border=\"1\" class=\"dataframe\">\n",
       "  <thead>\n",
       "    <tr style=\"text-align: right;\">\n",
       "      <th></th>\n",
       "      <th>state name</th>\n",
       "      <th>state code</th>\n",
       "      <th>district</th>\n",
       "      <th>confirmed</th>\n",
       "      <th>active</th>\n",
       "      <th>deceased</th>\n",
       "      <th>recovered</th>\n",
       "      <th>delta_confirmed</th>\n",
       "      <th>delta_deceased</th>\n",
       "      <th>delta_recovered</th>\n",
       "      <th>notes</th>\n",
       "    </tr>\n",
       "  </thead>\n",
       "  <tbody>\n",
       "    <tr>\n",
       "      <th>0</th>\n",
       "      <td>State Unassigned</td>\n",
       "      <td>UN</td>\n",
       "      <td>Unassigned</td>\n",
       "      <td>1096</td>\n",
       "      <td>1096</td>\n",
       "      <td>0</td>\n",
       "      <td>0</td>\n",
       "      <td>0</td>\n",
       "      <td>0</td>\n",
       "      <td>0</td>\n",
       "      <td></td>\n",
       "    </tr>\n",
       "    <tr>\n",
       "      <th>0</th>\n",
       "      <td>Andaman and Nicobar Islands</td>\n",
       "      <td>AN</td>\n",
       "      <td>Nicobars</td>\n",
       "      <td>0</td>\n",
       "      <td>0</td>\n",
       "      <td>0</td>\n",
       "      <td>0</td>\n",
       "      <td>0</td>\n",
       "      <td>0</td>\n",
       "      <td>0</td>\n",
       "      <td></td>\n",
       "    </tr>\n",
       "    <tr>\n",
       "      <th>1</th>\n",
       "      <td>Andaman and Nicobar Islands</td>\n",
       "      <td>AN</td>\n",
       "      <td>North and Middle Andaman</td>\n",
       "      <td>1</td>\n",
       "      <td>0</td>\n",
       "      <td>0</td>\n",
       "      <td>1</td>\n",
       "      <td>0</td>\n",
       "      <td>0</td>\n",
       "      <td>0</td>\n",
       "      <td></td>\n",
       "    </tr>\n",
       "    <tr>\n",
       "      <th>2</th>\n",
       "      <td>Andaman and Nicobar Islands</td>\n",
       "      <td>AN</td>\n",
       "      <td>South Andaman</td>\n",
       "      <td>32</td>\n",
       "      <td>0</td>\n",
       "      <td>0</td>\n",
       "      <td>32</td>\n",
       "      <td>0</td>\n",
       "      <td>0</td>\n",
       "      <td>0</td>\n",
       "      <td></td>\n",
       "    </tr>\n",
       "    <tr>\n",
       "      <th>0</th>\n",
       "      <td>Andhra Pradesh</td>\n",
       "      <td>AP</td>\n",
       "      <td>Anantapur</td>\n",
       "      <td>136</td>\n",
       "      <td>40</td>\n",
       "      <td>4</td>\n",
       "      <td>92</td>\n",
       "      <td>0</td>\n",
       "      <td>0</td>\n",
       "      <td>0</td>\n",
       "      <td></td>\n",
       "    </tr>\n",
       "  </tbody>\n",
       "</table>\n",
       "</div>"
      ],
      "text/plain": [
       "                    state name state code                  district  \\\n",
       "0             State Unassigned         UN                Unassigned   \n",
       "0  Andaman and Nicobar Islands         AN                  Nicobars   \n",
       "1  Andaman and Nicobar Islands         AN  North and Middle Andaman   \n",
       "2  Andaman and Nicobar Islands         AN             South Andaman   \n",
       "0               Andhra Pradesh         AP                 Anantapur   \n",
       "\n",
       "   confirmed  active  deceased  recovered  delta_confirmed  delta_deceased  \\\n",
       "0       1096    1096         0          0                0               0   \n",
       "0          0       0         0          0                0               0   \n",
       "1          1       0         0          1                0               0   \n",
       "2         32       0         0         32                0               0   \n",
       "0        136      40         4         92                0               0   \n",
       "\n",
       "   delta_recovered notes  \n",
       "0                0        \n",
       "0                0        \n",
       "1                0        \n",
       "2                0        \n",
       "0                0        "
      ]
     },
     "execution_count": 50,
     "metadata": {},
     "output_type": "execute_result"
    }
   ],
   "source": [
    "district_level = district_level[['state name', 'state code', 'district', \n",
    "                                 'confirmed', 'active', 'deceased', 'recovered',\n",
    "                                 'delta_confirmed', 'delta_deceased',\n",
    "                                 'delta_recovered', 'notes']]\n",
    "district_level.head()"
   ]
  },
  {
   "cell_type": "code",
   "execution_count": 51,
   "metadata": {},
   "outputs": [],
   "source": [
    "# save to csv`\n",
    "district_level.to_csv('district_level_latest.csv', index=False)"
   ]
  },
  {
   "cell_type": "code",
   "execution_count": null,
   "metadata": {},
   "outputs": [],
   "source": []
  },
  {
   "cell_type": "code",
   "execution_count": null,
   "metadata": {},
   "outputs": [],
   "source": []
  },
  {
   "cell_type": "code",
   "execution_count": null,
   "metadata": {},
   "outputs": [],
   "source": []
  },
  {
   "cell_type": "markdown",
   "metadata": {},
   "source": [
    "## State wise Daily"
   ]
  },
  {
   "cell_type": "code",
   "execution_count": 52,
   "metadata": {},
   "outputs": [],
   "source": [
    "# response = requests.get('https://api.covid19india.org/states_daily.json')\n",
    "# content = response.content\n",
    "# parsed = json.loads(content)\n",
    "\n",
    "# df = pd.DataFrame(parsed['states_daily'])"
   ]
  },
  {
   "cell_type": "code",
   "execution_count": null,
   "metadata": {},
   "outputs": [],
   "source": []
  },
  {
   "cell_type": "code",
   "execution_count": 53,
   "metadata": {},
   "outputs": [],
   "source": [
    "# df = df.melt(id_vars = ['date', 'status'], \n",
    "#              value_vars = ['an', 'ap', 'ar', 'as', 'br', 'ch', 'ct', 'dd', \n",
    "#                     'dl', 'dn', 'ga', 'gj', 'hp', 'hr', 'jh', 'jk', \n",
    "#                     'ka', 'kl', 'la', 'ld', 'mh', 'ml', 'mn', 'mp',\n",
    "#                     'mz', 'nl', 'or', 'pb', 'py', 'rj', 'sk', 'tg', \n",
    "#                     'tn', 'tr', 'tt', 'up', 'ut', 'wb'], \n",
    "#              var_name='state', value_name='count')\n",
    "\n",
    "# df = df.set_index(['date', 'state'])\n",
    "\n",
    "# df = df.pivot(columns = 'status').reset_index()\n",
    "\n",
    "# df.columns = df.columns.droplevel(0)\n",
    "# df.columns.name = ''\n",
    "\n",
    "# df.columns = ['Date', 'State', 'Confirmed', 'Deceased', 'Recovered']\n",
    "# df.head()"
   ]
  },
  {
   "cell_type": "code",
   "execution_count": 54,
   "metadata": {},
   "outputs": [],
   "source": [
    "# response = requests.get('https://api.covid19india.org/csv/')\n",
    "# parsed = response.content.decode('utf-8')\n",
    "# parsed\n",
    "\n",
    "# df = pd.DataFrame(parsed, sep=',')\n",
    "# df.head()"
   ]
  },
  {
   "cell_type": "code",
   "execution_count": 55,
   "metadata": {},
   "outputs": [],
   "source": [
    "# pd.DataFrame('http://api.covid19india.org/states_daily_csv/confirmed.csv')"
   ]
  },
  {
   "cell_type": "code",
   "execution_count": 56,
   "metadata": {},
   "outputs": [],
   "source": [
    "# pd.read_csv('https://api.covid19india.org/csv/')"
   ]
  },
  {
   "cell_type": "markdown",
   "metadata": {},
   "source": [
    "## States Daily changes"
   ]
  },
  {
   "cell_type": "code",
   "execution_count": 57,
   "metadata": {},
   "outputs": [],
   "source": [
    "# response = requests.get('https://api.covid19india.org/states_daily.json')\n",
    "# content = response.content\n",
    "# parsed = json.loads(content)"
   ]
  },
  {
   "cell_type": "code",
   "execution_count": 58,
   "metadata": {},
   "outputs": [],
   "source": [
    "# pd.DataFrame(parsed['states_daily'])"
   ]
  },
  {
   "cell_type": "code",
   "execution_count": 59,
   "metadata": {},
   "outputs": [],
   "source": [
    "# state_wise = pd.DataFrame(parsed['statewise'])\n",
    "# state_wise.head()"
   ]
  },
  {
   "cell_type": "code",
   "execution_count": 60,
   "metadata": {},
   "outputs": [],
   "source": [
    "# tested = pd.DataFrame(parsed['tested'])\n",
    "# tested.head()"
   ]
  },
  {
   "cell_type": "markdown",
   "metadata": {},
   "source": [
    "## District wise"
   ]
  },
  {
   "cell_type": "code",
   "execution_count": 61,
   "metadata": {},
   "outputs": [],
   "source": [
    "# response = requests.get('https://api.covid19india.org/state_district_wise.json')\n",
    "# content = response.content\n",
    "# parsed = json.loads(content)\n",
    "# parsed.keys()"
   ]
  },
  {
   "cell_type": "code",
   "execution_count": 62,
   "metadata": {},
   "outputs": [],
   "source": [
    "# pd.DataFrame(parsed['Goa'])"
   ]
  },
  {
   "cell_type": "code",
   "execution_count": 63,
   "metadata": {},
   "outputs": [],
   "source": [
    "# parsed['Goa'].keys()"
   ]
  },
  {
   "cell_type": "code",
   "execution_count": 64,
   "metadata": {},
   "outputs": [],
   "source": [
    "# pd.DataFrame(parsed['Goa']['districtData'])"
   ]
  },
  {
   "cell_type": "code",
   "execution_count": 65,
   "metadata": {},
   "outputs": [],
   "source": [
    "# pd.DataFrame(parsed)"
   ]
  },
  {
   "cell_type": "code",
   "execution_count": 66,
   "metadata": {},
   "outputs": [],
   "source": [
    "# pd.DataFrame(parsed[1]['districtData'])"
   ]
  },
  {
   "cell_type": "markdown",
   "metadata": {},
   "source": [
    "## Travel history (no more updated)"
   ]
  },
  {
   "cell_type": "code",
   "execution_count": 67,
   "metadata": {},
   "outputs": [],
   "source": [
    "# response = requests.get('https://api.covid19india.org/travel_history.json')\n",
    "# content = response.content\n",
    "# parsed = json.loads(content)\n",
    "# parsed.keys()"
   ]
  },
  {
   "cell_type": "code",
   "execution_count": 68,
   "metadata": {},
   "outputs": [],
   "source": [
    "# th = pd.DataFrame(parsed['travel_history'])\n",
    "# th.head()"
   ]
  }
 ],
 "metadata": {
  "kernelspec": {
   "display_name": "Python 3",
   "language": "python",
   "name": "python3"
  },
  "language_info": {
   "codemirror_mode": {
    "name": "ipython",
    "version": 3
   },
   "file_extension": ".py",
   "mimetype": "text/x-python",
   "name": "python",
   "nbconvert_exporter": "python",
   "pygments_lexer": "ipython3",
   "version": "3.7.3"
  }
 },
 "nbformat": 4,
 "nbformat_minor": 4
}
